{
 "cells": [
  {
   "cell_type": "markdown",
   "id": "f4e55aed",
   "metadata": {},
   "source": [
    "Provo a runnare i codici di esempio (il modello fa volutamente schifo) "
   ]
  },
  {
   "cell_type": "code",
   "execution_count": null,
   "id": "6d29ad90",
   "metadata": {},
   "outputs": [],
   "source": [
    "# This file contains functions for training models for the 2022 Challenge. You can run it as follows:\n",
    "#\n",
    "#   python train_model.py data model\n",
    "#\n",
    "# where 'data' is a folder containing the Challenge data and 'model' is a folder for saving your model."
   ]
  },
  {
   "cell_type": "code",
   "execution_count": 12,
   "id": "e1d0b387",
   "metadata": {},
   "outputs": [
    {
     "name": "stdout",
     "output_type": "stream",
     "text": [
      "Finding data files...\n",
      "Extracting features and labels from the Challenge data...\n",
      "Training model...\n",
      "Done.\n"
     ]
    }
   ],
   "source": [
    "!python train_model.py C:\\Users\\giuli\\Desktop\\challenge\\python-classifier-2022-master\\the-circor-digiscope-phonocardiogram-dataset-1.0.1\\training_data C:\\Users\\giuli\\Desktop\\challenge\\python-classifier-2022-master\\model"
   ]
  },
  {
   "cell_type": "code",
   "execution_count": null,
   "id": "1bd0dc89",
   "metadata": {},
   "outputs": [],
   "source": [
    "# python run_model.py model data outputs\n",
    "#\n",
    "# where 'model' is a folder containing the your trained model, 'data' is a folder containing the Challenge data, and 'outputs' is a\n",
    "# folder for saving your model's outputs."
   ]
  },
  {
   "cell_type": "code",
   "execution_count": 14,
   "id": "ea3799cb",
   "metadata": {},
   "outputs": [
    {
     "name": "stdout",
     "output_type": "stream",
     "text": [
      "Loading Challenge model...\n",
      "Running model on Challenge data...\n",
      "Done.\n"
     ]
    }
   ],
   "source": [
    "!python run_model.py C:\\Users\\giuli\\Desktop\\challenge\\python-classifier-2022-master\\model C:\\Users\\giuli\\Desktop\\challenge\\python-classifier-2022-master\\the-circor-digiscope-phonocardiogram-dataset-1.0.1\\training_data C:\\Users\\giuli\\Desktop\\challenge\\python-classifier-2022-master\\output"
   ]
  },
  {
   "cell_type": "markdown",
   "id": "18a7172a",
   "metadata": {},
   "source": [
    "Provo a vedere come è andata"
   ]
  },
  {
   "cell_type": "code",
   "execution_count": 4,
   "id": "63c93826",
   "metadata": {},
   "outputs": [],
   "source": [
    "from sklearn.metrics import confusion_matrix\n",
    "import pandas as pd\n",
    "import seaborn as sn\n",
    "from os import listdir\n",
    "from os.path import isfile, join\n",
    "from helper_code import *"
   ]
  },
  {
   "cell_type": "code",
   "execution_count": 51,
   "id": "6930ec13",
   "metadata": {},
   "outputs": [],
   "source": [
    "# load true labels\n",
    "data = r\"C:\\Users\\giuli\\Desktop\\challenge\\python-classifier-2022-master\\the-circor-digiscope-phonocardiogram-dataset-1.0.1\\training_data\"\n",
    "patient_files=find_patient_files(data)\n",
    "num_patient_files = len(patient_files)\n",
    "label = []\n",
    "for i in range (num_patient_files):\n",
    "    patient_data = load_patient_data(patient_files[i])\n",
    "    label.append(get_label(patient_data))"
   ]
  },
  {
   "cell_type": "code",
   "execution_count": 46,
   "id": "735cac99",
   "metadata": {},
   "outputs": [],
   "source": [
    "#load predicted labels\n",
    "mypath= r\"C:\\Users\\giuli\\Desktop\\challenge\\python-classifier-2022-master\\output\"\n",
    "onlyfiles = [f for f in listdir(mypath) if isfile(join(mypath, f))]\n",
    "pred_label = []\n",
    "for i in range(len(onlyfiles)):\n",
    "    a = load_challenge_outputs(mypath + \"\\\\\" + onlyfiles[i])\n",
    "    for j in range(0,3):\n",
    "        if a[2][j] == 1:\n",
    "            pred_label.append(a[1][j])\n"
   ]
  },
  {
   "cell_type": "code",
   "execution_count": 58,
   "id": "ed5db291",
   "metadata": {},
   "outputs": [],
   "source": [
    "cm = pd.DataFrame(confusion_matrix(label,pred_label))"
   ]
  },
  {
   "cell_type": "code",
   "execution_count": 60,
   "id": "9b7b3c16",
   "metadata": {},
   "outputs": [
    {
     "data": {
      "text/html": [
       "<div>\n",
       "<style scoped>\n",
       "    .dataframe tbody tr th:only-of-type {\n",
       "        vertical-align: middle;\n",
       "    }\n",
       "\n",
       "    .dataframe tbody tr th {\n",
       "        vertical-align: top;\n",
       "    }\n",
       "\n",
       "    .dataframe thead th {\n",
       "        text-align: right;\n",
       "    }\n",
       "</style>\n",
       "<table border=\"1\" class=\"dataframe\">\n",
       "  <thead>\n",
       "    <tr style=\"text-align: right;\">\n",
       "      <th></th>\n",
       "      <th>0</th>\n",
       "      <th>1</th>\n",
       "      <th>2</th>\n",
       "    </tr>\n",
       "  </thead>\n",
       "  <tbody>\n",
       "    <tr>\n",
       "      <th>0</th>\n",
       "      <td>630</td>\n",
       "      <td>54</td>\n",
       "      <td>11</td>\n",
       "    </tr>\n",
       "    <tr>\n",
       "      <th>1</th>\n",
       "      <td>158</td>\n",
       "      <td>15</td>\n",
       "      <td>6</td>\n",
       "    </tr>\n",
       "    <tr>\n",
       "      <th>2</th>\n",
       "      <td>58</td>\n",
       "      <td>8</td>\n",
       "      <td>2</td>\n",
       "    </tr>\n",
       "  </tbody>\n",
       "</table>\n",
       "</div>"
      ],
      "text/plain": [
       "     0   1   2\n",
       "0  630  54  11\n",
       "1  158  15   6\n",
       "2   58   8   2"
      ]
     },
     "execution_count": 60,
     "metadata": {},
     "output_type": "execute_result"
    }
   ],
   "source": [
    "cm"
   ]
  },
  {
   "cell_type": "code",
   "execution_count": 63,
   "id": "8b171d7c",
   "metadata": {},
   "outputs": [],
   "source": [
    "recap_path= r\"C:\\Users\\giuli\\Desktop\\challenge\\python-classifier-2022-master\\the-circor-digiscope-phonocardiogram-dataset-1.0.1\\training_data.csv\"\n",
    "tabella=pd.read_csv(recap_path)"
   ]
  },
  {
   "cell_type": "markdown",
   "id": "db3b1f6a",
   "metadata": {},
   "source": [
    "I dati sono molto sblianciati!"
   ]
  },
  {
   "cell_type": "code",
   "execution_count": 64,
   "id": "5d42196b",
   "metadata": {
    "scrolled": false
   },
   "outputs": [
    {
     "data": {
      "text/html": [
       "<div>\n",
       "<style scoped>\n",
       "    .dataframe tbody tr th:only-of-type {\n",
       "        vertical-align: middle;\n",
       "    }\n",
       "\n",
       "    .dataframe tbody tr th {\n",
       "        vertical-align: top;\n",
       "    }\n",
       "\n",
       "    .dataframe thead th {\n",
       "        text-align: right;\n",
       "    }\n",
       "</style>\n",
       "<table border=\"1\" class=\"dataframe\">\n",
       "  <thead>\n",
       "    <tr style=\"text-align: right;\">\n",
       "      <th></th>\n",
       "      <th>Patient ID</th>\n",
       "      <th>Locations</th>\n",
       "      <th>Age</th>\n",
       "      <th>Sex</th>\n",
       "      <th>Height</th>\n",
       "      <th>Weight</th>\n",
       "      <th>Pregnancy status</th>\n",
       "      <th>Murmur</th>\n",
       "      <th>Murmur locations</th>\n",
       "      <th>Most audible location</th>\n",
       "      <th>...</th>\n",
       "      <th>Systolic murmur grading</th>\n",
       "      <th>Systolic murmur pitch</th>\n",
       "      <th>Systolic murmur quality</th>\n",
       "      <th>Diastolic murmur timing</th>\n",
       "      <th>Diastolic murmur shape</th>\n",
       "      <th>Diastolic murmur grading</th>\n",
       "      <th>Diastolic murmur pitch</th>\n",
       "      <th>Diastolic murmur quality</th>\n",
       "      <th>Campaign</th>\n",
       "      <th>Additional ID</th>\n",
       "    </tr>\n",
       "  </thead>\n",
       "  <tbody>\n",
       "    <tr>\n",
       "      <th>0</th>\n",
       "      <td>2530</td>\n",
       "      <td>AV+PV+TV+MV</td>\n",
       "      <td>Child</td>\n",
       "      <td>Female</td>\n",
       "      <td>98.0</td>\n",
       "      <td>15.9</td>\n",
       "      <td>False</td>\n",
       "      <td>Absent</td>\n",
       "      <td>NaN</td>\n",
       "      <td>NaN</td>\n",
       "      <td>...</td>\n",
       "      <td>NaN</td>\n",
       "      <td>NaN</td>\n",
       "      <td>NaN</td>\n",
       "      <td>NaN</td>\n",
       "      <td>NaN</td>\n",
       "      <td>NaN</td>\n",
       "      <td>NaN</td>\n",
       "      <td>NaN</td>\n",
       "      <td>CC2015</td>\n",
       "      <td>NaN</td>\n",
       "    </tr>\n",
       "    <tr>\n",
       "      <th>1</th>\n",
       "      <td>9979</td>\n",
       "      <td>AV+PV+TV+MV</td>\n",
       "      <td>Child</td>\n",
       "      <td>Female</td>\n",
       "      <td>103.0</td>\n",
       "      <td>13.1</td>\n",
       "      <td>False</td>\n",
       "      <td>Present</td>\n",
       "      <td>AV+MV+PV+TV</td>\n",
       "      <td>TV</td>\n",
       "      <td>...</td>\n",
       "      <td>III/VI</td>\n",
       "      <td>High</td>\n",
       "      <td>Harsh</td>\n",
       "      <td>NaN</td>\n",
       "      <td>NaN</td>\n",
       "      <td>NaN</td>\n",
       "      <td>NaN</td>\n",
       "      <td>NaN</td>\n",
       "      <td>CC2015</td>\n",
       "      <td>NaN</td>\n",
       "    </tr>\n",
       "    <tr>\n",
       "      <th>2</th>\n",
       "      <td>9983</td>\n",
       "      <td>AV+PV+TV+MV</td>\n",
       "      <td>Child</td>\n",
       "      <td>Male</td>\n",
       "      <td>115.0</td>\n",
       "      <td>19.1</td>\n",
       "      <td>False</td>\n",
       "      <td>Unknown</td>\n",
       "      <td>NaN</td>\n",
       "      <td>NaN</td>\n",
       "      <td>...</td>\n",
       "      <td>NaN</td>\n",
       "      <td>NaN</td>\n",
       "      <td>NaN</td>\n",
       "      <td>NaN</td>\n",
       "      <td>NaN</td>\n",
       "      <td>NaN</td>\n",
       "      <td>NaN</td>\n",
       "      <td>NaN</td>\n",
       "      <td>CC2015</td>\n",
       "      <td>NaN</td>\n",
       "    </tr>\n",
       "    <tr>\n",
       "      <th>3</th>\n",
       "      <td>13918</td>\n",
       "      <td>AV+PV+TV+MV</td>\n",
       "      <td>Child</td>\n",
       "      <td>Male</td>\n",
       "      <td>98.0</td>\n",
       "      <td>15.9</td>\n",
       "      <td>False</td>\n",
       "      <td>Present</td>\n",
       "      <td>TV</td>\n",
       "      <td>TV</td>\n",
       "      <td>...</td>\n",
       "      <td>I/VI</td>\n",
       "      <td>Low</td>\n",
       "      <td>Blowing</td>\n",
       "      <td>NaN</td>\n",
       "      <td>NaN</td>\n",
       "      <td>NaN</td>\n",
       "      <td>NaN</td>\n",
       "      <td>NaN</td>\n",
       "      <td>CC2015</td>\n",
       "      <td>NaN</td>\n",
       "    </tr>\n",
       "    <tr>\n",
       "      <th>4</th>\n",
       "      <td>14241</td>\n",
       "      <td>AV+PV+TV+MV</td>\n",
       "      <td>Child</td>\n",
       "      <td>Male</td>\n",
       "      <td>87.0</td>\n",
       "      <td>11.2</td>\n",
       "      <td>False</td>\n",
       "      <td>Present</td>\n",
       "      <td>AV+MV+PV+TV</td>\n",
       "      <td>PV</td>\n",
       "      <td>...</td>\n",
       "      <td>II/VI</td>\n",
       "      <td>Low</td>\n",
       "      <td>Harsh</td>\n",
       "      <td>NaN</td>\n",
       "      <td>NaN</td>\n",
       "      <td>NaN</td>\n",
       "      <td>NaN</td>\n",
       "      <td>NaN</td>\n",
       "      <td>CC2015</td>\n",
       "      <td>NaN</td>\n",
       "    </tr>\n",
       "    <tr>\n",
       "      <th>...</th>\n",
       "      <td>...</td>\n",
       "      <td>...</td>\n",
       "      <td>...</td>\n",
       "      <td>...</td>\n",
       "      <td>...</td>\n",
       "      <td>...</td>\n",
       "      <td>...</td>\n",
       "      <td>...</td>\n",
       "      <td>...</td>\n",
       "      <td>...</td>\n",
       "      <td>...</td>\n",
       "      <td>...</td>\n",
       "      <td>...</td>\n",
       "      <td>...</td>\n",
       "      <td>...</td>\n",
       "      <td>...</td>\n",
       "      <td>...</td>\n",
       "      <td>...</td>\n",
       "      <td>...</td>\n",
       "      <td>...</td>\n",
       "      <td>...</td>\n",
       "    </tr>\n",
       "    <tr>\n",
       "      <th>937</th>\n",
       "      <td>85340</td>\n",
       "      <td>AV+PV+TV+MV</td>\n",
       "      <td>Child</td>\n",
       "      <td>Male</td>\n",
       "      <td>105.0</td>\n",
       "      <td>16.6</td>\n",
       "      <td>False</td>\n",
       "      <td>Absent</td>\n",
       "      <td>NaN</td>\n",
       "      <td>NaN</td>\n",
       "      <td>...</td>\n",
       "      <td>NaN</td>\n",
       "      <td>NaN</td>\n",
       "      <td>NaN</td>\n",
       "      <td>NaN</td>\n",
       "      <td>NaN</td>\n",
       "      <td>NaN</td>\n",
       "      <td>NaN</td>\n",
       "      <td>NaN</td>\n",
       "      <td>CC2015</td>\n",
       "      <td>NaN</td>\n",
       "    </tr>\n",
       "    <tr>\n",
       "      <th>938</th>\n",
       "      <td>85341</td>\n",
       "      <td>AV+PV+TV+MV</td>\n",
       "      <td>Child</td>\n",
       "      <td>Male</td>\n",
       "      <td>92.0</td>\n",
       "      <td>15.2</td>\n",
       "      <td>False</td>\n",
       "      <td>Absent</td>\n",
       "      <td>NaN</td>\n",
       "      <td>NaN</td>\n",
       "      <td>...</td>\n",
       "      <td>NaN</td>\n",
       "      <td>NaN</td>\n",
       "      <td>NaN</td>\n",
       "      <td>NaN</td>\n",
       "      <td>NaN</td>\n",
       "      <td>NaN</td>\n",
       "      <td>NaN</td>\n",
       "      <td>NaN</td>\n",
       "      <td>CC2015</td>\n",
       "      <td>NaN</td>\n",
       "    </tr>\n",
       "    <tr>\n",
       "      <th>939</th>\n",
       "      <td>85343</td>\n",
       "      <td>AV+PV+TV+MV</td>\n",
       "      <td>Child</td>\n",
       "      <td>Female</td>\n",
       "      <td>97.0</td>\n",
       "      <td>13.5</td>\n",
       "      <td>False</td>\n",
       "      <td>Present</td>\n",
       "      <td>MV+TV</td>\n",
       "      <td>TV</td>\n",
       "      <td>...</td>\n",
       "      <td>I/VI</td>\n",
       "      <td>Low</td>\n",
       "      <td>Blowing</td>\n",
       "      <td>NaN</td>\n",
       "      <td>NaN</td>\n",
       "      <td>NaN</td>\n",
       "      <td>NaN</td>\n",
       "      <td>NaN</td>\n",
       "      <td>CC2015</td>\n",
       "      <td>NaN</td>\n",
       "    </tr>\n",
       "    <tr>\n",
       "      <th>940</th>\n",
       "      <td>85345</td>\n",
       "      <td>AV+PV</td>\n",
       "      <td>Child</td>\n",
       "      <td>Female</td>\n",
       "      <td>132.0</td>\n",
       "      <td>38.1</td>\n",
       "      <td>False</td>\n",
       "      <td>Absent</td>\n",
       "      <td>NaN</td>\n",
       "      <td>NaN</td>\n",
       "      <td>...</td>\n",
       "      <td>NaN</td>\n",
       "      <td>NaN</td>\n",
       "      <td>NaN</td>\n",
       "      <td>NaN</td>\n",
       "      <td>NaN</td>\n",
       "      <td>NaN</td>\n",
       "      <td>NaN</td>\n",
       "      <td>NaN</td>\n",
       "      <td>CC2015</td>\n",
       "      <td>NaN</td>\n",
       "    </tr>\n",
       "    <tr>\n",
       "      <th>941</th>\n",
       "      <td>85349</td>\n",
       "      <td>AV+PV+TV</td>\n",
       "      <td>NaN</td>\n",
       "      <td>Female</td>\n",
       "      <td>NaN</td>\n",
       "      <td>NaN</td>\n",
       "      <td>True</td>\n",
       "      <td>Absent</td>\n",
       "      <td>NaN</td>\n",
       "      <td>NaN</td>\n",
       "      <td>...</td>\n",
       "      <td>NaN</td>\n",
       "      <td>NaN</td>\n",
       "      <td>NaN</td>\n",
       "      <td>NaN</td>\n",
       "      <td>NaN</td>\n",
       "      <td>NaN</td>\n",
       "      <td>NaN</td>\n",
       "      <td>NaN</td>\n",
       "      <td>CC2015</td>\n",
       "      <td>NaN</td>\n",
       "    </tr>\n",
       "  </tbody>\n",
       "</table>\n",
       "<p>942 rows × 22 columns</p>\n",
       "</div>"
      ],
      "text/plain": [
       "     Patient ID    Locations    Age     Sex  Height  Weight  Pregnancy status  \\\n",
       "0          2530  AV+PV+TV+MV  Child  Female    98.0    15.9             False   \n",
       "1          9979  AV+PV+TV+MV  Child  Female   103.0    13.1             False   \n",
       "2          9983  AV+PV+TV+MV  Child    Male   115.0    19.1             False   \n",
       "3         13918  AV+PV+TV+MV  Child    Male    98.0    15.9             False   \n",
       "4         14241  AV+PV+TV+MV  Child    Male    87.0    11.2             False   \n",
       "..          ...          ...    ...     ...     ...     ...               ...   \n",
       "937       85340  AV+PV+TV+MV  Child    Male   105.0    16.6             False   \n",
       "938       85341  AV+PV+TV+MV  Child    Male    92.0    15.2             False   \n",
       "939       85343  AV+PV+TV+MV  Child  Female    97.0    13.5             False   \n",
       "940       85345        AV+PV  Child  Female   132.0    38.1             False   \n",
       "941       85349     AV+PV+TV    NaN  Female     NaN     NaN              True   \n",
       "\n",
       "      Murmur Murmur locations Most audible location  ...  \\\n",
       "0     Absent              NaN                   NaN  ...   \n",
       "1    Present      AV+MV+PV+TV                    TV  ...   \n",
       "2    Unknown              NaN                   NaN  ...   \n",
       "3    Present               TV                    TV  ...   \n",
       "4    Present      AV+MV+PV+TV                    PV  ...   \n",
       "..       ...              ...                   ...  ...   \n",
       "937   Absent              NaN                   NaN  ...   \n",
       "938   Absent              NaN                   NaN  ...   \n",
       "939  Present            MV+TV                    TV  ...   \n",
       "940   Absent              NaN                   NaN  ...   \n",
       "941   Absent              NaN                   NaN  ...   \n",
       "\n",
       "    Systolic murmur grading Systolic murmur pitch Systolic murmur quality  \\\n",
       "0                       NaN                   NaN                     NaN   \n",
       "1                    III/VI                  High                   Harsh   \n",
       "2                       NaN                   NaN                     NaN   \n",
       "3                      I/VI                   Low                 Blowing   \n",
       "4                     II/VI                   Low                   Harsh   \n",
       "..                      ...                   ...                     ...   \n",
       "937                     NaN                   NaN                     NaN   \n",
       "938                     NaN                   NaN                     NaN   \n",
       "939                    I/VI                   Low                 Blowing   \n",
       "940                     NaN                   NaN                     NaN   \n",
       "941                     NaN                   NaN                     NaN   \n",
       "\n",
       "    Diastolic murmur timing Diastolic murmur shape Diastolic murmur grading  \\\n",
       "0                       NaN                    NaN                      NaN   \n",
       "1                       NaN                    NaN                      NaN   \n",
       "2                       NaN                    NaN                      NaN   \n",
       "3                       NaN                    NaN                      NaN   \n",
       "4                       NaN                    NaN                      NaN   \n",
       "..                      ...                    ...                      ...   \n",
       "937                     NaN                    NaN                      NaN   \n",
       "938                     NaN                    NaN                      NaN   \n",
       "939                     NaN                    NaN                      NaN   \n",
       "940                     NaN                    NaN                      NaN   \n",
       "941                     NaN                    NaN                      NaN   \n",
       "\n",
       "    Diastolic murmur pitch Diastolic murmur quality Campaign Additional ID  \n",
       "0                      NaN                      NaN   CC2015           NaN  \n",
       "1                      NaN                      NaN   CC2015           NaN  \n",
       "2                      NaN                      NaN   CC2015           NaN  \n",
       "3                      NaN                      NaN   CC2015           NaN  \n",
       "4                      NaN                      NaN   CC2015           NaN  \n",
       "..                     ...                      ...      ...           ...  \n",
       "937                    NaN                      NaN   CC2015           NaN  \n",
       "938                    NaN                      NaN   CC2015           NaN  \n",
       "939                    NaN                      NaN   CC2015           NaN  \n",
       "940                    NaN                      NaN   CC2015           NaN  \n",
       "941                    NaN                      NaN   CC2015           NaN  \n",
       "\n",
       "[942 rows x 22 columns]"
      ]
     },
     "execution_count": 64,
     "metadata": {},
     "output_type": "execute_result"
    }
   ],
   "source": [
    "tabella"
   ]
  },
  {
   "cell_type": "code",
   "execution_count": 66,
   "id": "24128e42",
   "metadata": {},
   "outputs": [
    {
     "data": {
      "text/plain": [
       "<AxesSubplot:>"
      ]
     },
     "execution_count": 66,
     "metadata": {},
     "output_type": "execute_result"
    },
    {
     "data": {
      "image/png": "[encoded data removed]",
      "text/plain": [
       "<Figure size 432x288 with 1 Axes>"
      ]
     },
     "metadata": {
      "needs_background": "light"
     },
     "output_type": "display_data"
    }
   ],
   "source": [
    "tabella[\"Murmur\"].hist()"
   ]
  },
  {
   "cell_type": "code",
   "execution_count": 5,
   "id": "d4ceb70d",
   "metadata": {},
   "outputs": [],
   "source": [
    "path_canc = r\"C:\\Users\\giuli\\Desktop\\challenge\\python-classifier-2022-master\\the-circor-digiscope-phonocardiogram-dataset-1.0.1\\training_data\\2530_AV.wav\"\n",
    "recording, frequency = load_wav_file(path_canc)"
   ]
  },
  {
   "cell_type": "code",
   "execution_count": 6,
   "id": "cf0e18c9",
   "metadata": {},
   "outputs": [
    {
     "data": {
      "text/plain": [
       "[<matplotlib.lines.Line2D at 0x1c4c4fc5d30>]"
      ]
     },
     "execution_count": 6,
     "metadata": {},
     "output_type": "execute_result"
    },
    {
     "data": {
      "image/png": "[encoded data removed]",
      "text/plain": [
       "<Figure size 432x288 with 1 Axes>"
      ]
     },
     "metadata": {
      "needs_background": "light"
     },
     "output_type": "display_data"
    }
   ],
   "source": [
    "import matplotlib.pyplot as plt\n",
    "L=len(recording)\n",
    "tempo = np.arange(0,L/frequency,1/frequency)\n",
    "plt.plot(tempo[0:5*frequency],recording[0:5*frequency])\n"
   ]
  },
  {
   "cell_type": "code",
   "execution_count": 12,
   "id": "c611dbbe",
   "metadata": {},
   "outputs": [
    {
     "data": {
      "text/plain": [
       "4000"
      ]
     },
     "execution_count": 12,
     "metadata": {},
     "output_type": "execute_result"
    }
   ],
   "source": [
    "frequency"
   ]
  },
  {
   "cell_type": "code",
   "execution_count": 2,
   "id": "6d30b4a3",
   "metadata": {},
   "outputs": [],
   "source": [
    "import numpy as np\n",
    "window_size = 4000\n",
    "groups = [np.arange(i, i + 5) for i in range(0, 11, 5)]"
   ]
  },
  {
   "cell_type": "code",
   "execution_count": 12,
   "id": "d30da743",
   "metadata": {},
   "outputs": [
    {
     "ename": "ValueError",
     "evalue": "If 'window_size' is an integer, it must be greater than or equal to 2 and lower than or equal to n_timestamps (got 4).",
     "output_type": "error",
     "traceback": [
      "\u001b[1;31m---------------------------------------------------------------------------\u001b[0m",
      "\u001b[1;31mValueError\u001b[0m                                Traceback (most recent call last)",
      "\u001b[1;32m~\\AppData\\Local\\Temp/ipykernel_13900/4152499261.py\u001b[0m in \u001b[0;36m<module>\u001b[1;34m\u001b[0m\n\u001b[0;32m      1\u001b[0m \u001b[1;32mfrom\u001b[0m \u001b[0mpyts\u001b[0m\u001b[1;33m.\u001b[0m\u001b[0mdecomposition\u001b[0m \u001b[1;32mimport\u001b[0m \u001b[0mSingularSpectrumAnalysis\u001b[0m\u001b[1;33m\u001b[0m\u001b[1;33m\u001b[0m\u001b[0m\n\u001b[0;32m      2\u001b[0m \u001b[0mssa\u001b[0m \u001b[1;33m=\u001b[0m \u001b[0mSingularSpectrumAnalysis\u001b[0m\u001b[1;33m(\u001b[0m\u001b[0mwindow_size\u001b[0m\u001b[1;33m=\u001b[0m\u001b[1;36m4\u001b[0m\u001b[1;33m)\u001b[0m\u001b[1;33m\u001b[0m\u001b[1;33m\u001b[0m\u001b[0m\n\u001b[1;32m----> 3\u001b[1;33m \u001b[0mX_ssa\u001b[0m \u001b[1;33m=\u001b[0m \u001b[0mssa\u001b[0m\u001b[1;33m.\u001b[0m\u001b[0mfit_transform\u001b[0m\u001b[1;33m(\u001b[0m\u001b[0mrecording\u001b[0m\u001b[1;33m.\u001b[0m\u001b[0mreshape\u001b[0m\u001b[1;33m(\u001b[0m\u001b[1;33m-\u001b[0m\u001b[1;36m1\u001b[0m\u001b[1;33m,\u001b[0m \u001b[1;36m1\u001b[0m\u001b[1;33m)\u001b[0m\u001b[1;33m)\u001b[0m\u001b[1;33m\u001b[0m\u001b[1;33m\u001b[0m\u001b[0m\n\u001b[0m",
      "\u001b[1;32m~\\anaconda3\\lib\\site-packages\\pyts\\base.py\u001b[0m in \u001b[0;36mfit_transform\u001b[1;34m(self, X, y, **fit_params)\u001b[0m\n\u001b[0;32m     35\u001b[0m         \u001b[1;32mif\u001b[0m \u001b[0my\u001b[0m \u001b[1;32mis\u001b[0m \u001b[1;32mNone\u001b[0m\u001b[1;33m:\u001b[0m\u001b[1;33m\u001b[0m\u001b[1;33m\u001b[0m\u001b[0m\n\u001b[0;32m     36\u001b[0m             \u001b[1;31m# fit method of arity 1 (unsupervised transformation)\u001b[0m\u001b[1;33m\u001b[0m\u001b[1;33m\u001b[0m\u001b[0m\n\u001b[1;32m---> 37\u001b[1;33m             \u001b[1;32mreturn\u001b[0m \u001b[0mself\u001b[0m\u001b[1;33m.\u001b[0m\u001b[0mfit\u001b[0m\u001b[1;33m(\u001b[0m\u001b[0mX\u001b[0m\u001b[1;33m,\u001b[0m \u001b[1;33m**\u001b[0m\u001b[0mfit_params\u001b[0m\u001b[1;33m)\u001b[0m\u001b[1;33m.\u001b[0m\u001b[0mtransform\u001b[0m\u001b[1;33m(\u001b[0m\u001b[0mX\u001b[0m\u001b[1;33m)\u001b[0m\u001b[1;33m\u001b[0m\u001b[1;33m\u001b[0m\u001b[0m\n\u001b[0m\u001b[0;32m     38\u001b[0m         \u001b[1;32melse\u001b[0m\u001b[1;33m:\u001b[0m\u001b[1;33m\u001b[0m\u001b[1;33m\u001b[0m\u001b[0m\n\u001b[0;32m     39\u001b[0m             \u001b[1;31m# fit method of arity 2 (supervised transformation)\u001b[0m\u001b[1;33m\u001b[0m\u001b[1;33m\u001b[0m\u001b[0m\n",
      "\u001b[1;32m~\\anaconda3\\lib\\site-packages\\pyts\\decomposition\\ssa.py\u001b[0m in \u001b[0;36mtransform\u001b[1;34m(self, X)\u001b[0m\n\u001b[0;32m    116\u001b[0m         \u001b[0mX\u001b[0m \u001b[1;33m=\u001b[0m \u001b[0mcheck_array\u001b[0m\u001b[1;33m(\u001b[0m\u001b[0mX\u001b[0m\u001b[1;33m,\u001b[0m \u001b[0mdtype\u001b[0m\u001b[1;33m=\u001b[0m\u001b[1;34m'float64'\u001b[0m\u001b[1;33m)\u001b[0m\u001b[1;33m\u001b[0m\u001b[1;33m\u001b[0m\u001b[0m\n\u001b[0;32m    117\u001b[0m         \u001b[0mn_samples\u001b[0m\u001b[1;33m,\u001b[0m \u001b[0mn_timestamps\u001b[0m \u001b[1;33m=\u001b[0m \u001b[0mX\u001b[0m\u001b[1;33m.\u001b[0m\u001b[0mshape\u001b[0m\u001b[1;33m\u001b[0m\u001b[1;33m\u001b[0m\u001b[0m\n\u001b[1;32m--> 118\u001b[1;33m         \u001b[0mwindow_size\u001b[0m \u001b[1;33m=\u001b[0m \u001b[0mself\u001b[0m\u001b[1;33m.\u001b[0m\u001b[0m_check_params\u001b[0m\u001b[1;33m(\u001b[0m\u001b[0mn_timestamps\u001b[0m\u001b[1;33m)\u001b[0m\u001b[1;33m\u001b[0m\u001b[1;33m\u001b[0m\u001b[0m\n\u001b[0m\u001b[0;32m    119\u001b[0m         \u001b[0mn_windows\u001b[0m \u001b[1;33m=\u001b[0m \u001b[0mn_timestamps\u001b[0m \u001b[1;33m-\u001b[0m \u001b[0mwindow_size\u001b[0m \u001b[1;33m+\u001b[0m \u001b[1;36m1\u001b[0m\u001b[1;33m\u001b[0m\u001b[1;33m\u001b[0m\u001b[0m\n\u001b[0;32m    120\u001b[0m \u001b[1;33m\u001b[0m\u001b[0m\n",
      "\u001b[1;32m~\\anaconda3\\lib\\site-packages\\pyts\\decomposition\\ssa.py\u001b[0m in \u001b[0;36m_check_params\u001b[1;34m(self, n_timestamps)\u001b[0m\n\u001b[0;32m    170\u001b[0m         \u001b[1;32mif\u001b[0m \u001b[0misinstance\u001b[0m\u001b[1;33m(\u001b[0m\u001b[0mself\u001b[0m\u001b[1;33m.\u001b[0m\u001b[0mwindow_size\u001b[0m\u001b[1;33m,\u001b[0m \u001b[1;33m(\u001b[0m\u001b[0mint\u001b[0m\u001b[1;33m,\u001b[0m \u001b[0mnp\u001b[0m\u001b[1;33m.\u001b[0m\u001b[0minteger\u001b[0m\u001b[1;33m)\u001b[0m\u001b[1;33m)\u001b[0m\u001b[1;33m:\u001b[0m\u001b[1;33m\u001b[0m\u001b[1;33m\u001b[0m\u001b[0m\n\u001b[0;32m    171\u001b[0m             \u001b[1;32mif\u001b[0m \u001b[1;32mnot\u001b[0m \u001b[1;36m2\u001b[0m \u001b[1;33m<=\u001b[0m \u001b[0mself\u001b[0m\u001b[1;33m.\u001b[0m\u001b[0mwindow_size\u001b[0m \u001b[1;33m<=\u001b[0m \u001b[0mn_timestamps\u001b[0m\u001b[1;33m:\u001b[0m\u001b[1;33m\u001b[0m\u001b[1;33m\u001b[0m\u001b[0m\n\u001b[1;32m--> 172\u001b[1;33m                 raise ValueError(\n\u001b[0m\u001b[0;32m    173\u001b[0m                     \u001b[1;34m\"If 'window_size' is an integer, it must be greater \"\u001b[0m\u001b[1;33m\u001b[0m\u001b[1;33m\u001b[0m\u001b[0m\n\u001b[0;32m    174\u001b[0m                     \u001b[1;34m\"than or equal to 2 and lower than or equal to \"\u001b[0m\u001b[1;33m\u001b[0m\u001b[1;33m\u001b[0m\u001b[0m\n",
      "\u001b[1;31mValueError\u001b[0m: If 'window_size' is an integer, it must be greater than or equal to 2 and lower than or equal to n_timestamps (got 4)."
     ]
    }
   ],
   "source": [
    "from pyts.decomposition import SingularSpectrumAnalysis\n",
    "ssa = SingularSpectrumAnalysis(window_size=4)\n",
    "X_ssa = ssa.fit_transform(recording.reshape(-1, 1))"
   ]
  },
  {
   "cell_type": "code",
   "execution_count": 20,
   "id": "fd9a4d67",
   "metadata": {},
   "outputs": [],
   "source": [
    "from scipy import signal\n",
    "f, Pxx = signal.welch(recording, frequency)"
   ]
  },
  {
   "cell_type": "code",
   "execution_count": 21,
   "id": "866a2e18",
   "metadata": {},
   "outputs": [
    {
     "data": {
      "text/plain": [
       "[<matplotlib.lines.Line2D at 0x1c4c6f318b0>]"
      ]
     },
     "execution_count": 21,
     "metadata": {},
     "output_type": "execute_result"
    },
    {
     "data": {
      "image/png": "[encoded data removed]",
      "text/plain": [
       "<Figure size 432x288 with 1 Axes>"
      ]
     },
     "metadata": {
      "needs_background": "light"
     },
     "output_type": "display_data"
    }
   ],
   "source": [
    "plt.plot(f,Pxx)"
   ]
  },
  {
   "cell_type": "code",
   "execution_count": 37,
   "id": "851fb855",
   "metadata": {},
   "outputs": [
    {
     "ename": "MemoryError",
     "evalue": "Unable to allocate 32.5 GiB for an array with shape (1, 93400, 93400, 2) and data type int16",
     "output_type": "error",
     "traceback": [
      "\u001b[1;31m---------------------------------------------------------------------------\u001b[0m",
      "\u001b[1;31mMemoryError\u001b[0m                               Traceback (most recent call last)",
      "\u001b[1;32m~\\AppData\\Local\\Temp/ipykernel_13900/4013699303.py\u001b[0m in \u001b[0;36m<module>\u001b[1;34m\u001b[0m\n\u001b[0;32m      1\u001b[0m \u001b[1;32mfrom\u001b[0m \u001b[0mpyts\u001b[0m\u001b[1;33m.\u001b[0m\u001b[0mimage\u001b[0m \u001b[1;32mimport\u001b[0m \u001b[0mRecurrencePlot\u001b[0m\u001b[1;33m\u001b[0m\u001b[1;33m\u001b[0m\u001b[0m\n\u001b[0;32m      2\u001b[0m \u001b[0mrp\u001b[0m \u001b[1;33m=\u001b[0m \u001b[0mRecurrencePlot\u001b[0m\u001b[1;33m(\u001b[0m\u001b[0mdimension\u001b[0m\u001b[1;33m=\u001b[0m\u001b[1;36m2\u001b[0m\u001b[1;33m,\u001b[0m \u001b[0mtime_delay\u001b[0m\u001b[1;33m=\u001b[0m\u001b[1;36m1000\u001b[0m\u001b[1;33m)\u001b[0m\u001b[1;33m\u001b[0m\u001b[1;33m\u001b[0m\u001b[0m\n\u001b[1;32m----> 3\u001b[1;33m \u001b[0mX_rp\u001b[0m \u001b[1;33m=\u001b[0m \u001b[0mrp\u001b[0m\u001b[1;33m.\u001b[0m\u001b[0mtransform\u001b[0m\u001b[1;33m(\u001b[0m\u001b[0mnp\u001b[0m\u001b[1;33m.\u001b[0m\u001b[0marray\u001b[0m\u001b[1;33m(\u001b[0m\u001b[1;33m[\u001b[0m\u001b[0mrecording\u001b[0m\u001b[1;33m]\u001b[0m\u001b[1;33m)\u001b[0m\u001b[1;33m)\u001b[0m\u001b[1;33m\u001b[0m\u001b[1;33m\u001b[0m\u001b[0m\n\u001b[0m",
      "\u001b[1;32m~\\anaconda3\\lib\\site-packages\\pyts\\image\\recurrence.py\u001b[0m in \u001b[0;36mtransform\u001b[1;34m(self, X)\u001b[0m\n\u001b[0;32m    145\u001b[0m             \u001b[0mX_traj\u001b[0m \u001b[1;33m=\u001b[0m \u001b[0m_trajectories\u001b[0m\u001b[1;33m(\u001b[0m\u001b[0mX\u001b[0m\u001b[1;33m,\u001b[0m \u001b[0mdimension\u001b[0m\u001b[1;33m,\u001b[0m \u001b[0mtime_delay\u001b[0m\u001b[1;33m)\u001b[0m\u001b[1;33m\u001b[0m\u001b[1;33m\u001b[0m\u001b[0m\n\u001b[0;32m    146\u001b[0m             X_dist = np.sqrt(\n\u001b[1;32m--> 147\u001b[1;33m                 np.sum((X_traj[:, None, :, :] - X_traj[:, :, None, :]) ** 2,\n\u001b[0m\u001b[0;32m    148\u001b[0m                        axis=3)\n\u001b[0;32m    149\u001b[0m             )\n",
      "\u001b[1;31mMemoryError\u001b[0m: Unable to allocate 32.5 GiB for an array with shape (1, 93400, 93400, 2) and data type int16"
     ]
    }
   ],
   "source": [
    "from pyts.image import RecurrencePlot\n",
    "rp = RecurrencePlot(dimension=2, time_delay=1000)\n",
    "X_rp = rp.transform(np.array([recording]))\n"
   ]
  },
  {
   "cell_type": "code",
   "execution_count": null,
   "id": "a5e68122",
   "metadata": {},
   "outputs": [],
   "source": [
    "X_rp.shape"
   ]
  }
 ],
 "metadata": {
  "kernelspec": {
   "display_name": "Python 3 (ipykernel)",
   "language": "python",
   "name": "python3"
  },
  "language_info": {
   "codemirror_mode": {
    "name": "ipython",
    "version": 3
   },
   "file_extension": ".py",
   "mimetype": "text/x-python",
   "name": "python",
   "nbconvert_exporter": "python",
   "pygments_lexer": "ipython3",
   "version": "3.9.7"
  }
 },
 "nbformat": 4,
 "nbformat_minor": 5
}
